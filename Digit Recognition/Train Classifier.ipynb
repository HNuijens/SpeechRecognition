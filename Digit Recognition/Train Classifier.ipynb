{
 "cells": [
  {
   "cell_type": "markdown",
   "id": "770673d1",
   "metadata": {},
   "source": [
    "<h1 style = \"font-size:3rem;color:darkcyan\"> Train Classifier</h1>\n"
   ]
  },
  {
   "cell_type": "code",
   "execution_count": 34,
   "id": "c838f6bb",
   "metadata": {},
   "outputs": [],
   "source": [
    "# import libraries\n",
    "import numpy as np\n",
    "import matplotlib.pyplot as plt\n",
    "import json\n",
    "import sklearn\n",
    "from sklearn.model_selection import train_test_split\n",
    "import tensorflow.keras as keras"
   ]
  },
  {
   "cell_type": "code",
   "execution_count": 35,
   "id": "bec90ef8",
   "metadata": {},
   "outputs": [],
   "source": [
    "# import dataset\n",
    "def import_dataset(dataset_path):\n",
    "    with open(dataset_path, 'r') as f:\n",
    "        data = json.load(f)\n",
    "        \n",
    "    # split data\n",
    "    \n",
    "    # split list into different np arrays\n",
    "    mappings = np.array(data['mappings']) \n",
    "    inputs = np.array(data['MFCC'])\n",
    "    targets = np.array(data['labels'])\n",
    "    filenames = np.array(data['filenames'])\n",
    "    \n",
    "    return mappings, inputs, targets, filenames"
   ]
  },
  {
   "cell_type": "code",
   "execution_count": 52,
   "id": "8d0eb99c",
   "metadata": {},
   "outputs": [],
   "source": [
    "mappings, inputs, targets, filenames = import_dataset('data.json')"
   ]
  },
  {
   "cell_type": "code",
   "execution_count": 53,
   "id": "b9a00ca6",
   "metadata": {},
   "outputs": [
    {
     "data": {
      "text/plain": [
       "numpy.ndarray"
      ]
     },
     "execution_count": 53,
     "metadata": {},
     "output_type": "execute_result"
    }
   ],
   "source": [
    "type(inputs)"
   ]
  },
  {
   "cell_type": "code",
   "execution_count": 54,
   "id": "108faf2a",
   "metadata": {},
   "outputs": [
    {
     "name": "stdout",
     "output_type": "stream",
     "text": [
      "input shape before: (27392, 47, 13)\n",
      "input shape after: (27392, 47, 13, 1)\n"
     ]
    }
   ],
   "source": [
    "# adjusting the input shape for CNN compatibility (from 2D to 3D (excluding # samples))\n",
    "print('input shape before: {}'.format(inputs.shape))\n",
    "inputs = inputs[..., np.newaxis] \n",
    "print('input shape after: {}'.format(inputs.shape))"
   ]
  },
  {
   "cell_type": "code",
   "execution_count": 55,
   "id": "6e9dcfb0",
   "metadata": {},
   "outputs": [],
   "source": [
    "# splitting data into train, validation, and testing sets\n",
    "# filenames for misclassification-tracking\n",
    "\n",
    "def train_validation_test_split(x, y, filenames, test_size = 0.25, val_size = 0.2):\n",
    "    if (0 < test_size < 1)  and (0 < val_size < 1):\n",
    "        train_size = 1 - test_size - val_size\n",
    "        if train_size > 0:\n",
    "\n",
    "            # train test split\n",
    "            (\n",
    "            x_train, x_test, \n",
    "            y_train, y_test,\n",
    "            fn_train, fn_test\n",
    "            ) = train_test_split(x, y, filenames, test_size = test_size)\n",
    "\n",
    "            #train validation split\n",
    "            (\n",
    "            x_train, x_val, \n",
    "            y_train, y_val, \n",
    "            fn_train, fn_val\n",
    "            ) = train_test_split(x_train, y_train, fn_train, test_size = val_size)\n",
    "\n",
    "            return x_train, x_val, x_test, y_train, y_val, y_test, fn_train, fn_val, fn_test\n",
    "        else: \n",
    "            print('train size is too small, adjust test and validation sizes')\n",
    "            return\n",
    "    else:\n",
    "        print('test and validation size should be between 0 and 1!')\n",
    "        return"
   ]
  },
  {
   "cell_type": "code",
   "execution_count": 56,
   "id": "bb950b42",
   "metadata": {},
   "outputs": [],
   "source": [
    "# split data into train, validation and test sets\n",
    "(\n",
    "x_train, x_val, x_test,\n",
    "y_train, y_val, y_test,\n",
    "fn_train, fn_val, fn_test\n",
    ") = train_validation_test_split(inputs, targets, filenames, test_size = 0.25, val_size = 0.2)"
   ]
  },
  {
   "cell_type": "code",
   "execution_count": 57,
   "id": "b3353d9c",
   "metadata": {},
   "outputs": [
    {
     "name": "stdout",
     "output_type": "stream",
     "text": [
      "<class 'numpy.int32'>\n",
      "<class 'numpy.ndarray'>\n",
      "<class 'numpy.str_'>\n"
     ]
    }
   ],
   "source": [
    "print(type(targets[0]))\n",
    "print(type(inputs[0]))\n",
    "print(type(mappings[0]))\n",
    "\n"
   ]
  },
  {
   "cell_type": "code",
   "execution_count": 58,
   "id": "b06da8bd",
   "metadata": {},
   "outputs": [],
   "source": [
    "def build_CNN_model(input_shape, output_len):\n",
    "    # create model\n",
    "    model = keras.Sequential()\n",
    "    \n",
    "    # 1st CNN layer\n",
    "    model.add(keras.layers.Conv2D(64, (3,3), activation = 'relu',\n",
    "                                  input_shape = input_shape,\n",
    "                                  kernel_regularizer = keras.regularizers.l2(0.001)))\n",
    "    model.add(keras.layers.BatchNormalization())\n",
    "    model.add(keras.layers.MaxPool2D((3,3), strides = (2,2), padding = 'same'))\n",
    "    \n",
    "    \n",
    "    # 2nd CNN layer\n",
    "    model.add(keras.layers.Conv2D(32, (3,3), activation = 'relu', kernel_regularizer = keras.regularizers.l2(0.001)))\n",
    "    model.add(keras.layers.BatchNormalization())\n",
    "    model.add(keras.layers.MaxPool2D((3,3), strides = (2,2), padding = 'same'))\n",
    "   \n",
    "              \n",
    "    # 3rd CNN layer\n",
    "    model.add(keras.layers.Conv2D(32, (2,2), activation = 'relu', input_shape = input_shape, kernel_regularizer = keras.regularizers.l2(0.001)))\n",
    "    model.add(keras.layers.BatchNormalization())\n",
    "    model.add(keras.layers.MaxPool2D((2,2), strides = (2,2), padding = 'same'))\n",
    "              \n",
    "    # flatten layer & feed into dense layer\n",
    "    model.add(keras.layers.Flatten())\n",
    "    model.add(keras.layers.Dense(64, activation = 'relu'))\n",
    "    model.add(keras.layers.Dropout(0.3))\n",
    "    \n",
    "    # output layer\n",
    "    model.add(keras.layers.Dense(output_len, activation = 'softmax'))\n",
    "    \n",
    "    return model\n",
    "    "
   ]
  },
  {
   "cell_type": "code",
   "execution_count": 59,
   "id": "2a94a4d8",
   "metadata": {},
   "outputs": [],
   "source": [
    "# build model\n",
    "input_shape = [inputs.shape[1], inputs.shape[2], inputs.shape[3]]\n",
    "model = build_CNN_model(input_shape, len(mappings))"
   ]
  },
  {
   "cell_type": "code",
   "execution_count": 60,
   "id": "32402272",
   "metadata": {},
   "outputs": [],
   "source": [
    "# compile model\n",
    "learning_rate = 0.0001\n",
    "optimizer = keras.optimizers.Adam(learning_rate)\n",
    "model.compile(optimizer = optimizer,\n",
    "             loss='sparse_categorical_crossentropy',\n",
    "             metrics = ['accuracy'])"
   ]
  },
  {
   "cell_type": "code",
   "execution_count": 61,
   "id": "ed31eb5a",
   "metadata": {},
   "outputs": [
    {
     "name": "stdout",
     "output_type": "stream",
     "text": [
      "Model: \"sequential_4\"\n",
      "_________________________________________________________________\n",
      " Layer (type)                Output Shape              Param #   \n",
      "=================================================================\n",
      " conv2d_12 (Conv2D)          (None, 45, 11, 64)        640       \n",
      "                                                                 \n",
      " batch_normalization_12 (Bat  (None, 45, 11, 64)       256       \n",
      " chNormalization)                                                \n",
      "                                                                 \n",
      " max_pooling2d_12 (MaxPoolin  (None, 23, 6, 64)        0         \n",
      " g2D)                                                            \n",
      "                                                                 \n",
      " conv2d_13 (Conv2D)          (None, 21, 4, 32)         18464     \n",
      "                                                                 \n",
      " batch_normalization_13 (Bat  (None, 21, 4, 32)        128       \n",
      " chNormalization)                                                \n",
      "                                                                 \n",
      " max_pooling2d_13 (MaxPoolin  (None, 11, 2, 32)        0         \n",
      " g2D)                                                            \n",
      "                                                                 \n",
      " conv2d_14 (Conv2D)          (None, 10, 1, 32)         4128      \n",
      "                                                                 \n",
      " batch_normalization_14 (Bat  (None, 10, 1, 32)        128       \n",
      " chNormalization)                                                \n",
      "                                                                 \n",
      " max_pooling2d_14 (MaxPoolin  (None, 5, 1, 32)         0         \n",
      " g2D)                                                            \n",
      "                                                                 \n",
      " flatten_4 (Flatten)         (None, 160)               0         \n",
      "                                                                 \n",
      " dense_8 (Dense)             (None, 64)                10304     \n",
      "                                                                 \n",
      " dropout_4 (Dropout)         (None, 64)                0         \n",
      "                                                                 \n",
      " dense_9 (Dense)             (None, 10)                650       \n",
      "                                                                 \n",
      "=================================================================\n",
      "Total params: 34,698\n",
      "Trainable params: 34,442\n",
      "Non-trainable params: 256\n",
      "_________________________________________________________________\n"
     ]
    }
   ],
   "source": [
    "model.summary()"
   ]
  },
  {
   "cell_type": "code",
   "execution_count": 62,
   "id": "e220c5ed",
   "metadata": {},
   "outputs": [
    {
     "name": "stdout",
     "output_type": "stream",
     "text": [
      "Epoch 1/30\n",
      "514/514 [==============================] - 7s 13ms/step - loss: 1.1391 - accuracy: 0.6592 - val_loss: 0.3916 - val_accuracy: 0.9319\n",
      "Epoch 2/30\n",
      "514/514 [==============================] - 7s 13ms/step - loss: 0.4029 - accuracy: 0.9110 - val_loss: 0.2163 - val_accuracy: 0.9671\n",
      "Epoch 3/30\n",
      "514/514 [==============================] - 7s 13ms/step - loss: 0.2669 - accuracy: 0.9471 - val_loss: 0.1626 - val_accuracy: 0.9771\n",
      "Epoch 4/30\n",
      "514/514 [==============================] - 7s 13ms/step - loss: 0.2060 - accuracy: 0.9637 - val_loss: 0.1439 - val_accuracy: 0.9832\n",
      "Epoch 5/30\n",
      "514/514 [==============================] - 7s 13ms/step - loss: 0.1718 - accuracy: 0.9727 - val_loss: 0.1388 - val_accuracy: 0.9815\n",
      "Epoch 6/30\n",
      "514/514 [==============================] - 7s 13ms/step - loss: 0.1497 - accuracy: 0.9791 - val_loss: 0.1143 - val_accuracy: 0.9886\n",
      "Epoch 7/30\n",
      "514/514 [==============================] - 7s 14ms/step - loss: 0.1342 - accuracy: 0.9824 - val_loss: 0.1069 - val_accuracy: 0.9903\n",
      "Epoch 8/30\n",
      "514/514 [==============================] - 8s 15ms/step - loss: 0.1255 - accuracy: 0.9841 - val_loss: 0.1054 - val_accuracy: 0.9876\n",
      "Epoch 9/30\n",
      "514/514 [==============================] - 7s 14ms/step - loss: 0.1125 - accuracy: 0.9875 - val_loss: 0.0943 - val_accuracy: 0.9922\n",
      "Epoch 10/30\n",
      "514/514 [==============================] - 8s 15ms/step - loss: 0.1060 - accuracy: 0.9886 - val_loss: 0.0955 - val_accuracy: 0.9903\n",
      "Epoch 11/30\n",
      "514/514 [==============================] - 7s 14ms/step - loss: 0.0995 - accuracy: 0.9906 - val_loss: 0.0909 - val_accuracy: 0.9912\n",
      "Epoch 12/30\n",
      "514/514 [==============================] - 7s 14ms/step - loss: 0.0938 - accuracy: 0.9914 - val_loss: 0.0881 - val_accuracy: 0.9927\n",
      "Epoch 13/30\n",
      "514/514 [==============================] - 7s 14ms/step - loss: 0.0915 - accuracy: 0.9920 - val_loss: 0.0851 - val_accuracy: 0.9908\n",
      "Epoch 14/30\n",
      "514/514 [==============================] - 8s 15ms/step - loss: 0.0820 - accuracy: 0.9944 - val_loss: 0.1101 - val_accuracy: 0.9822\n",
      "Epoch 15/30\n",
      "514/514 [==============================] - 7s 14ms/step - loss: 0.0819 - accuracy: 0.9932 - val_loss: 0.0801 - val_accuracy: 0.9927\n",
      "Epoch 16/30\n",
      "514/514 [==============================] - 7s 14ms/step - loss: 0.0769 - accuracy: 0.9942 - val_loss: 0.0790 - val_accuracy: 0.9925\n",
      "Epoch 17/30\n",
      "514/514 [==============================] - 8s 15ms/step - loss: 0.0760 - accuracy: 0.9941 - val_loss: 0.0831 - val_accuracy: 0.9920\n",
      "Epoch 18/30\n",
      "514/514 [==============================] - 7s 14ms/step - loss: 0.0711 - accuracy: 0.9954 - val_loss: 0.0824 - val_accuracy: 0.9905\n",
      "Epoch 19/30\n",
      "514/514 [==============================] - 7s 13ms/step - loss: 0.0677 - accuracy: 0.9958 - val_loss: 0.0684 - val_accuracy: 0.9949\n",
      "Epoch 20/30\n",
      "514/514 [==============================] - 7s 13ms/step - loss: 0.0673 - accuracy: 0.9953 - val_loss: 0.0828 - val_accuracy: 0.9912\n",
      "Epoch 21/30\n",
      "514/514 [==============================] - 7s 13ms/step - loss: 0.0654 - accuracy: 0.9957 - val_loss: 0.0647 - val_accuracy: 0.9951\n",
      "Epoch 22/30\n",
      "514/514 [==============================] - 7s 13ms/step - loss: 0.0643 - accuracy: 0.9962 - val_loss: 0.0710 - val_accuracy: 0.9939\n",
      "Epoch 23/30\n",
      "514/514 [==============================] - 7s 13ms/step - loss: 0.0615 - accuracy: 0.9963 - val_loss: 0.0628 - val_accuracy: 0.9949\n",
      "Epoch 24/30\n",
      "514/514 [==============================] - 7s 14ms/step - loss: 0.0586 - accuracy: 0.9965 - val_loss: 0.0621 - val_accuracy: 0.9956\n",
      "Epoch 25/30\n",
      "514/514 [==============================] - 7s 14ms/step - loss: 0.0575 - accuracy: 0.9967 - val_loss: 0.0658 - val_accuracy: 0.9934\n",
      "Epoch 26/30\n",
      "514/514 [==============================] - 7s 14ms/step - loss: 0.0532 - accuracy: 0.9980 - val_loss: 0.0638 - val_accuracy: 0.9944\n",
      "Epoch 27/30\n",
      "514/514 [==============================] - 7s 14ms/step - loss: 0.0527 - accuracy: 0.9975 - val_loss: 0.0590 - val_accuracy: 0.9949\n",
      "Epoch 28/30\n",
      "514/514 [==============================] - 7s 13ms/step - loss: 0.0537 - accuracy: 0.9962 - val_loss: 0.0617 - val_accuracy: 0.9951\n",
      "Epoch 29/30\n",
      "514/514 [==============================] - 7s 13ms/step - loss: 0.0499 - accuracy: 0.9977 - val_loss: 0.0570 - val_accuracy: 0.9956\n",
      "Epoch 30/30\n",
      "514/514 [==============================] - 7s 13ms/step - loss: 0.0499 - accuracy: 0.9977 - val_loss: 0.0586 - val_accuracy: 0.9951\n"
     ]
    }
   ],
   "source": [
    "# train model\n",
    "history = model.fit(x_train, y_train,\n",
    "                   validation_data = (x_val, y_val),\n",
    "                   batch_size = 32, \n",
    "                   epochs = 30)"
   ]
  },
  {
   "cell_type": "code",
   "execution_count": 63,
   "id": "7f7b4183",
   "metadata": {},
   "outputs": [],
   "source": [
    " def plot_training_history(history, figsize = [15,6]):\n",
    "    \n",
    "    fig, ax = plt.subplots(2, figsize=figsize)\n",
    "    \n",
    "    # create accuracy subplot\n",
    "    ax[0].plot(history.history['accuracy'], label = 'Training Accuracy')\n",
    "    ax[0].plot(history.history['val_accuracy'], label = 'Validation Accuracy')\n",
    "    ax[0].set_ylabel('Accuracy')\n",
    "    ax[0].legend(loc='lower right')\n",
    "    ax[0].set_title('Accuracy Evaluation')\n",
    "    \n",
    "    # create error subplot\n",
    "    ax[1].plot(history.history['loss'], label = 'Training Error')\n",
    "    ax[1].plot(history.history['val_loss'], label = 'Validation Error')\n",
    "    ax[1].set_ylabel('Error')\n",
    "    ax[1].set_xlabel('Epoch')\n",
    "    ax[1].legend(loc='upper right')\n",
    "    ax[1].set_title('Error Evaluation')\n",
    "    \n",
    "    plt.show()"
   ]
  },
  {
   "cell_type": "code",
   "execution_count": 64,
   "id": "a3e4556b",
   "metadata": {},
   "outputs": [
    {
     "data": {
      "image/png": "[encoded data removed]",
      "text/plain": [
       "<Figure size 1080x432 with 2 Axes>"
      ]
     },
     "metadata": {
      "needs_background": "light"
     },
     "output_type": "display_data"
    }
   ],
   "source": [
    "plot_training_history(history)"
   ]
  },
  {
   "cell_type": "code",
   "execution_count": 65,
   "id": "fd131081",
   "metadata": {},
   "outputs": [
    {
     "name": "stdout",
     "output_type": "stream",
     "text": [
      "214/214 [==============================] - 1s 4ms/step - loss: 0.0604 - accuracy: 0.9949\n",
      "Model loss = 0.06036662310361862 | model accuracy = 0.9948890209197998\n"
     ]
    }
   ],
   "source": [
    "# test model accuracy:\n",
    "test_error, test_accuracy = model.evaluate(x_test, y_test, verbose = True)\n",
    "print('Model loss = {} | model accuracy = {}'.format(test_error, test_accuracy))"
   ]
  },
  {
   "cell_type": "code",
   "execution_count": 66,
   "id": "b6084b3a",
   "metadata": {},
   "outputs": [
    {
     "name": "stdout",
     "output_type": "stream",
     "text": [
      "214/214 [==============================] - 1s 4ms/step\n"
     ]
    }
   ],
   "source": [
    "# get predictions\n",
    "y_pred = model.predict(x_test)\n",
    "pred_classes = np.argmax(y_pred, axis=1)"
   ]
  },
  {
   "cell_type": "code",
   "execution_count": 67,
   "id": "1af93a12",
   "metadata": {},
   "outputs": [],
   "source": [
    "# visualize confusion matrix\n",
    "\n",
    "def plot_confusion_matrix(true_target, predicted_target, classes, normalize = None, cmap= 'PuBu', size = [6,6], fontsize=9):\n",
    "    # get confusion matrix\n",
    "    labels = np.arange(0,len(classes), 1)\n",
    "    cm = sklearn.metrics.confusion_matrix(true_target, predicted_target, labels = labels)\n",
    "    \n",
    "    if normalize:\n",
    "        cm = cm.astype('float') / cm.sum(axis=1)[:, np.newaxis]\n",
    "        title = 'Normalized Confusion Matrix'\n",
    "    else:\n",
    "        title = 'Absolute Confusion Matrix'\n",
    "        \n",
    "    fig, ax = plt.subplots(figsize=size)\n",
    "    im = ax.imshow(cm, interpolation='nearest', cmap= cmap)\n",
    "    ax.figure.colorbar(im, ax=ax)\n",
    "    \n",
    "    \n",
    "    # set labels ticks\n",
    "    ticks = np.arange(cm.shape[1])\n",
    "    ax.set(xticks=ticks,\n",
    "           yticks=ticks,\n",
    "           xticklabels=classes, \n",
    "           yticklabels=classes,\n",
    "          )\n",
    "    \n",
    "    ax.set_title(title, fontsize = 20)\n",
    "    ax.set_ylabel('True Class', fontsize = fontsize)\n",
    "    ax.set_xlabel('Predicted Class', fontsize = fontsize)\n",
    "     \n",
    "    # style tick labels\n",
    "    plt.setp(ax.get_xticklabels(), rotation=45, ha=\"right\",\n",
    "             rotation_mode=\"anchor\", color = 'darkgrey', fontsize = fontsize)\n",
    "    plt.setp(ax.get_yticklabels(), ha=\"right\",\n",
    "             rotation_mode=\"anchor\", color = 'darkgrey', fontsize = fontsize)\n",
    "    \n",
    "    # plot text annotation inside each segment\n",
    "    fmt = '.2f' if normalize else 'd'\n",
    "    thresh = cm.max() / 2.\n",
    "    for i in range(cm.shape[0]):\n",
    "        for j in range(cm.shape[1]):\n",
    "            ax.text(j, i, format(cm[i, j], fmt),\n",
    "                    ha=\"center\", va=\"center\",\n",
    "                    color=\"white\" if cm[i, j] > thresh else \"black\",\n",
    "                    fontsize = fontsize)\n",
    "\n",
    "    fig.tight_layout()\n",
    "    plt.show()"
   ]
  },
  {
   "cell_type": "code",
   "execution_count": 68,
   "id": "951a98a7",
   "metadata": {},
   "outputs": [
    {
     "data": {
      "image/png": "[encoded data removed]",
      "text/plain": [
       "<Figure size 432x432 with 2 Axes>"
      ]
     },
     "metadata": {},
     "output_type": "display_data"
    },
    {
     "data": {
      "image/png": "[encoded data removed]",
      "text/plain": [
       "<Figure size 432x432 with 2 Axes>"
      ]
     },
     "metadata": {},
     "output_type": "display_data"
    }
   ],
   "source": [
    "plot_confusion_matrix(y_test, pred_classes, classes = mappings, normalize = False)\n",
    "plot_confusion_matrix(y_test, pred_classes, classes = mappings, normalize = True)"
   ]
  },
  {
   "cell_type": "code",
   "execution_count": 69,
   "id": "c3d8339c",
   "metadata": {},
   "outputs": [
    {
     "name": "stdout",
     "output_type": "stream",
     "text": [
      "Number of misclassified audiofiles = 35 / 6848\n",
      "\n",
      "Misclassifed files:\n",
      "3_17_48.wav               (three)     classified as six\n",
      "7_38_25.wav               (seven)     classified as six\n",
      "3_42_11.wav               (three)     classified as eight\n",
      "9_34_32.wav               (nine)      classified as zero\n",
      "0_44_42.wav               (zero)      classified as six\n",
      "5_32_27.wav               (five)      classified as four\n",
      "0_19_2.wav                (zero)      classified as six\n",
      "3_38_44.wav               (three)     classified as eight\n",
      "3_37_48.wav               (three)     classified as eight\n",
      "1_02_16.wav               (one)       classified as two\n",
      "3_38_35.wav               (three)     classified as six\n",
      "5_57_0.wav                (five)      classified as nine\n",
      "0_19_22.wav               (zero)      classified as three\n",
      "5_41_17.wav               (five)      classified as four\n",
      "9_50_30.wav               (nine)      classified as one\n",
      "2_44_17.wav               (two)       classified as six\n",
      "7_35_45.wav               (seven)     classified as six\n",
      "3_47_40.wav               (three)     classified as eight\n",
      "8_37_47.wav               (eight)     classified as three\n",
      "0_26_26.wav               (zero)      classified as three\n",
      "5_45_40.wav               (five)      classified as three\n",
      "6_16_37.wav               (six)       classified as seven\n",
      "4_57_39.wav               (four)      classified as five\n",
      "3_37_42.wav               (three)     classified as six\n",
      "3_22_12.wav               (three)     classified as six\n",
      "4_57_15.wav               (four)      classified as five\n",
      "2_25_21.wav               (two)       classified as zero\n",
      "7_48_39.wav               (seven)     classified as six\n",
      "0_45_37.wav               (zero)      classified as six\n",
      "7_22_48.wav               (seven)     classified as six\n",
      "5_18_14.wav               (five)      classified as four\n",
      "0_02_43.wav               (zero)      classified as six\n",
      "7_60_25.wav               (seven)     classified as six\n",
      "2_15_38.wav               (two)       classified as one\n",
      "0_45_2.wav                (zero)      classified as six\n"
     ]
    }
   ],
   "source": [
    "matches = pred_classes != y_test\n",
    "print('Number of misclassified audiofiles = {} / {}'.format(np.count_nonzero(matches), len(y_pred)))\n",
    "print('\\nMisclassifed files:')\n",
    "#displaying names of misclassified files\n",
    "for i in range(len(y_test)):\n",
    "    if pred_classes[i] != y_test[i]:\n",
    "        print('{: <25} {: <10}  classified as {}'.format(fn_test[i], '(' + mappings[y_test[i]] + ')', mappings[pred_classes[i]]))"
   ]
  },
  {
   "cell_type": "code",
   "execution_count": null,
   "id": "5aba4400",
   "metadata": {},
   "outputs": [],
   "source": []
  }
 ],
 "metadata": {
  "kernelspec": {
   "display_name": "Python 3 (ipykernel)",
   "language": "python",
   "name": "python3"
  },
  "language_info": {
   "codemirror_mode": {
    "name": "ipython",
    "version": 3
   },
   "file_extension": ".py",
   "mimetype": "text/x-python",
   "name": "python",
   "nbconvert_exporter": "python",
   "pygments_lexer": "ipython3",
   "version": "3.9.12"
  }
 },
 "nbformat": 4,
 "nbformat_minor": 5
}
