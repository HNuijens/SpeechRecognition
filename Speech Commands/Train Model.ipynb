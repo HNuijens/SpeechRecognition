{
 "cells": [
  {
   "cell_type": "markdown",
   "id": "3556e8d7",
   "metadata": {},
   "source": [
    "<h1 style = \"font-size:3rem;color:darkcyan\"> Train Classifier</h1>\n",
    "\n",
    "Using TensorFlow and Keras"
   ]
  },
  {
   "cell_type": "code",
   "execution_count": 60,
   "id": "b0fe2845",
   "metadata": {},
   "outputs": [],
   "source": [
    "# import libraries\n",
    "import numpy as np\n",
    "import matplotlib.pyplot as plt\n",
    "import json\n",
    "import sklearn\n",
    "from sklearn.model_selection import train_test_split\n",
    "import tensorflow.keras as keras"
   ]
  },
  {
   "cell_type": "code",
   "execution_count": 41,
   "id": "446c4fb2",
   "metadata": {},
   "outputs": [],
   "source": [
    "# import dataset\n",
    "def import_dataset(dataset_path):\n",
    "    with open(dataset_path, 'r') as f:\n",
    "        data = json.load(f)\n",
    "        \n",
    "    # split data\n",
    "    \n",
    "    # split list into different np arrays\n",
    "    mappings = np.array(data['mappings']) \n",
    "    inputs = np.array(data['MFCC'])\n",
    "    targets = np.array(data['labels'])\n",
    "    filenames = np.array(data['filenames'])\n",
    "    \n",
    "    return mappings, inputs, targets, filenames"
   ]
  },
  {
   "cell_type": "code",
   "execution_count": 53,
   "id": "f04a0aac",
   "metadata": {},
   "outputs": [],
   "source": [
    "mappings, inputs, targets, filenames = import_dataset('data.json')"
   ]
  },
  {
   "cell_type": "code",
   "execution_count": 54,
   "id": "4e0eb8d7",
   "metadata": {},
   "outputs": [
    {
     "name": "stdout",
     "output_type": "stream",
     "text": [
      "input shape before: (95394, 44, 13)\n",
      "input shape after: (95394, 44, 13, 1)\n"
     ]
    }
   ],
   "source": [
    "# adjusting the input shape for CNN compatibility (from 2D to 3D (excluding # samples))\n",
    "print('input shape before: {}'.format(inputs.shape))\n",
    "inputs = inputs[..., np.newaxis] \n",
    "print('input shape after: {}'.format(inputs.shape))"
   ]
  },
  {
   "cell_type": "code",
   "execution_count": 55,
   "id": "0ed60a45",
   "metadata": {},
   "outputs": [],
   "source": [
    "# splitting data into train, validation, and testing sets\n",
    "# filenames for misclassification-tracking\n",
    "\n",
    "def train_validation_test_split(x, y, filenames, test_size = 0.25, val_size = 0.2):\n",
    "    if (0 < test_size < 1)  and (0 < val_size < 1):\n",
    "        train_size = 1 - test_size - val_size\n",
    "        if train_size > 0:\n",
    "\n",
    "            # train test split\n",
    "            (\n",
    "            x_train, x_test, \n",
    "            y_train, y_test,\n",
    "            fn_train, fn_test\n",
    "            ) = train_test_split(x, y, filenames, test_size = test_size)\n",
    "\n",
    "            #train validation split\n",
    "            (\n",
    "            x_train, x_val, \n",
    "            y_train, y_val, \n",
    "            fn_train, fn_val\n",
    "            ) = train_test_split(x_train, y_train, fn_train, test_size = val_size)\n",
    "\n",
    "            return x_train, x_val, x_test, y_train, y_val, y_test, fn_train, fn_val, fn_test\n",
    "        else: \n",
    "            print('train size is too small, adjust test and validation sizes')\n",
    "            return\n",
    "    else:\n",
    "        print('test and validation size should be between 0 and 1!')\n",
    "        return"
   ]
  },
  {
   "cell_type": "code",
   "execution_count": 57,
   "id": "fafe0cbd",
   "metadata": {},
   "outputs": [],
   "source": [
    "# split data into train, validation and test sets\n",
    "(\n",
    "x_train, x_val, x_test,\n",
    "y_train, y_val, y_test,\n",
    "fn_train, fn_val, fn_test\n",
    ") = train_validation_test_split(inputs, targets, filenames, test_size = 0.25, val_size = 0.2)"
   ]
  },
  {
   "cell_type": "code",
   "execution_count": 65,
   "id": "d38e605d",
   "metadata": {},
   "outputs": [],
   "source": [
    "def build_CNN_model(input_shape, output_len):\n",
    "    # create model\n",
    "    model = keras.Sequential()\n",
    "    \n",
    "    # 1st CNN layer\n",
    "    model.add(keras.layers.Conv2D(32, (3,3), activation = 'relu', input_shape = input_shape))\n",
    "    model.add(tf.keras.layers.MaxPool2D((3,3), strides = (2,2), padding = 'same'))\n",
    "    model.add(tf.keras.layers.BatchNormalization())\n",
    "    \n",
    "    # 2nd CNN layer\n",
    "    model.add(keras.layers.Conv2D(32, (3,3), activation = 'relu'))\n",
    "    model.add(tf.keras.layers.MaxPool2D((3,3), strides = (2,2), padding = 'same'))\n",
    "    model.add(tf.keras.layers.BatchNormalization())\n",
    "              \n",
    "    # 3rd CNN layer\n",
    "    model.add(keras.layers.Conv2D(32, (2,2), activation = 'relu', input_shape = input_shape))\n",
    "    model.add(tf.keras.layers.MaxPool2D((2,2), strides = (2,2), padding = 'same'))\n",
    "    model.add(tf.keras.layers.BatchNormalization())\n",
    "              \n",
    "    # flatten layer & feed into dense layer\n",
    "    model.add(keras.layers.Flatten())\n",
    "    model.add(keras.layers.Dense(64, activation = 'relu'))\n",
    "    model.add(keras.layers.Dropout(0.3))\n",
    "    \n",
    "    # output layer\n",
    "    model.add(keras.layers.Dense(output_len, activation = 'softmax'))\n",
    "    \n",
    "    return model\n",
    "    "
   ]
  },
  {
   "cell_type": "code",
   "execution_count": 66,
   "id": "f4a41255",
   "metadata": {},
   "outputs": [],
   "source": [
    "# build model\n",
    "input_shape = [inputs.shape[1], inputs.shape[2], inputs.shape[3]]\n",
    "model = build_CNN_model(input_shape, len(mappings))"
   ]
  },
  {
   "cell_type": "code",
   "execution_count": 67,
   "id": "743c246f",
   "metadata": {},
   "outputs": [],
   "source": [
    "# compile model\n",
    "learning_rate = 0.0001\n",
    "optimizer = keras.optimizers.Adam(learning_rate)\n",
    "model.compile(optimizer = optimizer,\n",
    "             loss='sparse_categorical_crossentropy',\n",
    "             metrics = ['accuracy'])"
   ]
  },
  {
   "cell_type": "code",
   "execution_count": 68,
   "id": "9d6c064b",
   "metadata": {},
   "outputs": [
    {
     "name": "stdout",
     "output_type": "stream",
     "text": [
      "Model: \"sequential\"\n",
      "_________________________________________________________________\n",
      " Layer (type)                Output Shape              Param #   \n",
      "=================================================================\n",
      " conv2d (Conv2D)             (None, 42, 11, 32)        320       \n",
      "                                                                 \n",
      " max_pooling2d (MaxPooling2D  (None, 21, 6, 32)        0         \n",
      " )                                                               \n",
      "                                                                 \n",
      " batch_normalization (BatchN  (None, 21, 6, 32)        128       \n",
      " ormalization)                                                   \n",
      "                                                                 \n",
      " conv2d_1 (Conv2D)           (None, 19, 4, 32)         9248      \n",
      "                                                                 \n",
      " max_pooling2d_1 (MaxPooling  (None, 10, 2, 32)        0         \n",
      " 2D)                                                             \n",
      "                                                                 \n",
      " batch_normalization_1 (Batc  (None, 10, 2, 32)        128       \n",
      " hNormalization)                                                 \n",
      "                                                                 \n",
      " conv2d_2 (Conv2D)           (None, 9, 1, 32)          4128      \n",
      "                                                                 \n",
      " max_pooling2d_2 (MaxPooling  (None, 5, 1, 32)         0         \n",
      " 2D)                                                             \n",
      "                                                                 \n",
      " batch_normalization_2 (Batc  (None, 5, 1, 32)         128       \n",
      " hNormalization)                                                 \n",
      "                                                                 \n",
      " flatten (Flatten)           (None, 160)               0         \n",
      "                                                                 \n",
      " dense (Dense)               (None, 64)                10304     \n",
      "                                                                 \n",
      " dropout (Dropout)           (None, 64)                0         \n",
      "                                                                 \n",
      " dense_1 (Dense)             (None, 35)                2275      \n",
      "                                                                 \n",
      "=================================================================\n",
      "Total params: 26,659\n",
      "Trainable params: 26,467\n",
      "Non-trainable params: 192\n",
      "_________________________________________________________________\n"
     ]
    }
   ],
   "source": [
    "model.summary()"
   ]
  },
  {
   "cell_type": "code",
   "execution_count": 69,
   "id": "194cff27",
   "metadata": {},
   "outputs": [
    {
     "name": "stdout",
     "output_type": "stream",
     "text": [
      "Epoch 1/30\n",
      "1789/1789 [==============================] - 26s 14ms/step - loss: 3.1380 - accuracy: 0.1580 - val_loss: 2.3843 - val_accuracy: 0.3612\n",
      "Epoch 2/30\n",
      "1789/1789 [==============================] - 22s 12ms/step - loss: 2.2604 - accuracy: 0.3582 - val_loss: 1.6849 - val_accuracy: 0.5366\n",
      "Epoch 3/30\n",
      "1789/1789 [==============================] - 12s 7ms/step - loss: 1.7584 - accuracy: 0.4857 - val_loss: 1.2824 - val_accuracy: 0.6360\n",
      "Epoch 4/30\n",
      "1789/1789 [==============================] - 12s 7ms/step - loss: 1.4615 - accuracy: 0.5652 - val_loss: 1.0553 - val_accuracy: 0.6964\n",
      "Epoch 5/30\n",
      "1789/1789 [==============================] - 12s 7ms/step - loss: 1.2701 - accuracy: 0.6200 - val_loss: 0.9065 - val_accuracy: 0.7383\n",
      "Epoch 6/30\n",
      "1789/1789 [==============================] - 12s 7ms/step - loss: 1.1330 - accuracy: 0.6618 - val_loss: 0.8190 - val_accuracy: 0.7602\n",
      "Epoch 7/30\n",
      "1789/1789 [==============================] - 12s 7ms/step - loss: 1.0468 - accuracy: 0.6870 - val_loss: 0.7569 - val_accuracy: 0.7822\n",
      "Epoch 8/30\n",
      "1789/1789 [==============================] - 12s 7ms/step - loss: 0.9655 - accuracy: 0.7105 - val_loss: 0.7110 - val_accuracy: 0.7929\n",
      "Epoch 9/30\n",
      "1789/1789 [==============================] - 12s 7ms/step - loss: 0.9023 - accuracy: 0.7289 - val_loss: 0.6655 - val_accuracy: 0.8053\n",
      "Epoch 10/30\n",
      "1789/1789 [==============================] - 13s 7ms/step - loss: 0.8599 - accuracy: 0.7432 - val_loss: 0.6605 - val_accuracy: 0.8066\n",
      "Epoch 11/30\n",
      "1789/1789 [==============================] - 12s 7ms/step - loss: 0.8156 - accuracy: 0.7534 - val_loss: 0.6024 - val_accuracy: 0.8201\n",
      "Epoch 12/30\n",
      "1789/1789 [==============================] - 12s 7ms/step - loss: 0.7811 - accuracy: 0.7657 - val_loss: 0.5763 - val_accuracy: 0.8305\n",
      "Epoch 13/30\n",
      "1789/1789 [==============================] - 13s 7ms/step - loss: 0.7510 - accuracy: 0.7746 - val_loss: 0.5485 - val_accuracy: 0.8388\n",
      "Epoch 14/30\n",
      "1789/1789 [==============================] - 13s 7ms/step - loss: 0.7204 - accuracy: 0.7828 - val_loss: 0.5486 - val_accuracy: 0.8411\n",
      "Epoch 15/30\n",
      "1789/1789 [==============================] - 13s 7ms/step - loss: 0.6995 - accuracy: 0.7911 - val_loss: 0.5284 - val_accuracy: 0.8462\n",
      "Epoch 16/30\n",
      "1789/1789 [==============================] - 12s 7ms/step - loss: 0.6758 - accuracy: 0.7975 - val_loss: 0.5020 - val_accuracy: 0.8521\n",
      "Epoch 17/30\n",
      "1789/1789 [==============================] - 12s 7ms/step - loss: 0.6601 - accuracy: 0.8021 - val_loss: 0.4861 - val_accuracy: 0.8576\n",
      "Epoch 18/30\n",
      "1789/1789 [==============================] - 12s 7ms/step - loss: 0.6400 - accuracy: 0.8071 - val_loss: 0.4787 - val_accuracy: 0.8588\n",
      "Epoch 19/30\n",
      "1789/1789 [==============================] - 12s 7ms/step - loss: 0.6267 - accuracy: 0.8117 - val_loss: 0.4859 - val_accuracy: 0.8551\n",
      "Epoch 20/30\n",
      "1789/1789 [==============================] - 13s 7ms/step - loss: 0.6099 - accuracy: 0.8165 - val_loss: 0.4635 - val_accuracy: 0.8646\n",
      "Epoch 21/30\n",
      "1789/1789 [==============================] - 14s 8ms/step - loss: 0.6016 - accuracy: 0.8188 - val_loss: 0.4660 - val_accuracy: 0.8625\n",
      "Epoch 22/30\n",
      "1789/1789 [==============================] - 13s 7ms/step - loss: 0.5871 - accuracy: 0.8233 - val_loss: 0.4560 - val_accuracy: 0.8624\n",
      "Epoch 23/30\n",
      "1789/1789 [==============================] - 13s 7ms/step - loss: 0.5768 - accuracy: 0.8272 - val_loss: 0.4438 - val_accuracy: 0.8686\n",
      "Epoch 24/30\n",
      "1789/1789 [==============================] - 12s 7ms/step - loss: 0.5596 - accuracy: 0.8307 - val_loss: 0.4401 - val_accuracy: 0.8698\n",
      "Epoch 25/30\n",
      "1789/1789 [==============================] - 12s 7ms/step - loss: 0.5547 - accuracy: 0.8338 - val_loss: 0.4372 - val_accuracy: 0.8707\n",
      "Epoch 26/30\n",
      "1789/1789 [==============================] - 12s 7ms/step - loss: 0.5475 - accuracy: 0.8356 - val_loss: 0.4234 - val_accuracy: 0.8747\n",
      "Epoch 27/30\n",
      "1789/1789 [==============================] - 13s 7ms/step - loss: 0.5356 - accuracy: 0.8390 - val_loss: 0.4215 - val_accuracy: 0.8747\n",
      "Epoch 28/30\n",
      "1789/1789 [==============================] - 13s 7ms/step - loss: 0.5283 - accuracy: 0.8412 - val_loss: 0.4116 - val_accuracy: 0.8766\n",
      "Epoch 29/30\n",
      "1789/1789 [==============================] - 13s 7ms/step - loss: 0.5164 - accuracy: 0.8435 - val_loss: 0.4086 - val_accuracy: 0.8763\n",
      "Epoch 30/30\n",
      "1789/1789 [==============================] - 12s 7ms/step - loss: 0.5105 - accuracy: 0.8448 - val_loss: 0.4083 - val_accuracy: 0.8787\n"
     ]
    }
   ],
   "source": [
    "# train model\n",
    "history = model.fit(x_train, y_train,\n",
    "                   validation_data = (x_val, y_val),\n",
    "                   batch_size = 32, \n",
    "                   epochs = 30)"
   ]
  },
  {
   "cell_type": "code",
   "execution_count": 70,
   "id": "dd298174",
   "metadata": {},
   "outputs": [],
   "source": [
    " def plot_training_history(history, figsize = [15,6]):\n",
    "    \n",
    "    fig, ax = plt.subplots(2, figsize=figsize)\n",
    "    \n",
    "    # create accuracy subplot\n",
    "    ax[0].plot(history.history['accuracy'], label = 'Training Accuracy')\n",
    "    ax[0].plot(history.history['val_accuracy'], label = 'Validation Accuracy')\n",
    "    ax[0].set_ylabel('Accuracy')\n",
    "    ax[0].legend(loc='lower right')\n",
    "    ax[0].set_title('Accuracy Evaluation')\n",
    "    \n",
    "    # create error subplot\n",
    "    ax[1].plot(history.history['loss'], label = 'Training Error')\n",
    "    ax[1].plot(history.history['val_loss'], label = 'Validation Error')\n",
    "    ax[1].set_ylabel('Error')\n",
    "    ax[1].set_xlabel('Epoch')\n",
    "    ax[1].legend(loc='upper right')\n",
    "    ax[1].set_title('Error Evaluation')\n",
    "    \n",
    "    plt.show()"
   ]
  },
  {
   "cell_type": "code",
   "execution_count": 71,
   "id": "d66989a1",
   "metadata": {},
   "outputs": [
    {
     "data": {
      "image/png": "[encoded data removed]",
      "text/plain": [
       "<Figure size 1080x432 with 2 Axes>"
      ]
     },
     "metadata": {
      "needs_background": "light"
     },
     "output_type": "display_data"
    }
   ],
   "source": [
    "plot_training_history(history)"
   ]
  },
  {
   "cell_type": "code",
   "execution_count": null,
   "id": "8f9a6991",
   "metadata": {},
   "outputs": [],
   "source": []
  }
 ],
 "metadata": {
  "kernelspec": {
   "display_name": "Python 3 (ipykernel)",
   "language": "python",
   "name": "python3"
  },
  "language_info": {
   "codemirror_mode": {
    "name": "ipython",
    "version": 3
   },
   "file_extension": ".py",
   "mimetype": "text/x-python",
   "name": "python",
   "nbconvert_exporter": "python",
   "pygments_lexer": "ipython3",
   "version": "3.9.12"
  }
 },
 "nbformat": 4,
 "nbformat_minor": 5
}
